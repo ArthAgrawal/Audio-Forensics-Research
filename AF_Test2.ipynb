{
  "nbformat": 4,
  "nbformat_minor": 0,
  "metadata": {
    "colab": {
      "provenance": [],
      "machine_shape": "hm",
      "gpuType": "A100",
      "authorship_tag": "ABX9TyPLl8Hi3Ux2I0QEKsWCMR76",
      "include_colab_link": true
    },
    "kernelspec": {
      "name": "python3",
      "display_name": "Python 3"
    },
    "language_info": {
      "name": "python"
    },
    "accelerator": "GPU"
  },
  "cells": [
    {
      "cell_type": "markdown",
      "metadata": {
        "id": "view-in-github",
        "colab_type": "text"
      },
      "source": [
        "<a href=\"https://colab.research.google.com/github/ArthAgrawal/Audio-Forensics-Research/blob/main/AF_Test2.ipynb\" target=\"_parent\"><img src=\"https://colab.research.google.com/assets/colab-badge.svg\" alt=\"Open In Colab\"/></a>"
      ]
    },
    {
      "cell_type": "code",
      "execution_count": 16,
      "metadata": {
        "id": "UDS0xovRU869",
        "colab": {
          "base_uri": "https://localhost:8080/"
        },
        "outputId": "974498f6-30e9-4032-ef12-243a76b26831"
      },
      "outputs": [
        {
          "output_type": "stream",
          "name": "stdout",
          "text": [
            "Drive already mounted at /content/drive; to attempt to forcibly remount, call drive.mount(\"/content/drive\", force_remount=True).\n"
          ]
        }
      ],
      "source": [
        "from google.colab import drive\n",
        "drive.mount('/content/drive')"
      ]
    },
    {
      "cell_type": "code",
      "source": [
        "import os\n",
        "import matplotlib.pyplot as plt\n",
        "\n",
        "directories = {\n",
        "    'Bonafide': '/content/drive/MyDrive/LA_Dataset_Final/Bonafide',\n",
        "    'Spoof-A01': '/content/drive/MyDrive/LA_Dataset_Final/Spoof/A01',\n",
        "    'Spoof-A02': '/content/drive/MyDrive/LA_Dataset_Final/Spoof/A02',\n",
        "    'Spoof-A03': '/content/drive/MyDrive/LA_Dataset_Final/Spoof/A03',\n",
        "    'Spoof-A04': '/content/drive/MyDrive/LA_Dataset_Final/Spoof/A04',\n",
        "    'Spoof-A05': '/content/drive/MyDrive/LA_Dataset_Final/Spoof/A05',\n",
        "    'Spoof-A06': '/content/drive/MyDrive/LA_Dataset_Final/Spoof/A06',\n",
        "}"
      ],
      "metadata": {
        "id": "9bfqOLh5VCWZ"
      },
      "execution_count": 17,
      "outputs": []
    },
    {
      "cell_type": "code",
      "source": [
        "import os\n",
        "import numpy as np\n",
        "import librosa\n",
        "import librosa.display\n",
        "import matplotlib.pyplot as plt"
      ],
      "metadata": {
        "id": "oJq1NPeNVCYq"
      },
      "execution_count": 18,
      "outputs": []
    },
    {
      "cell_type": "code",
      "source": [
        "import os\n",
        "import librosa\n",
        "import numpy as np\n",
        "from tqdm import tqdm\n",
        "import random\n",
        "import matplotlib.pyplot as plt\n",
        "import librosa.display\n",
        "\n",
        "# Converting audio to Mel spectrogram\n",
        "def audio_to_mel_spectrogram(file_path, sr=11000, n_mels=256, max_time_frames=256):\n",
        "    try:\n",
        "        y, original_sr = librosa.load(file_path, sr=sr)  # Load audio with target sampling rate\n",
        "        mel_spectrogram = librosa.feature.melspectrogram(y=y, sr=sr, n_mels=n_mels)  # Compute Mel spectrogram\n",
        "        mel_spectrogram = librosa.power_to_db(mel_spectrogram, ref=np.max)  # Convert to dB scale\n",
        "\n",
        "        # Truncate or pad to max_time_frames\n",
        "        if mel_spectrogram.shape[1] > max_time_frames:\n",
        "            mel_spectrogram = mel_spectrogram[:, :max_time_frames]\n",
        "        else:\n",
        "            pad_width = max_time_frames - mel_spectrogram.shape[1]\n",
        "            mel_spectrogram = np.pad(mel_spectrogram, ((0, 0), (0, pad_width)), mode='constant')\n",
        "\n",
        "        return mel_spectrogram\n",
        "    except Exception as e:\n",
        "        print(f\"Error processing file {file_path}: {e}\")\n",
        "        return None\n",
        "\n",
        "\n",
        "def load_data_from_folders(folders, labels, sr=11000, n_mels=256, max_time_frames=256, max_files_per_class=2580):\n",
        "    X, y = [], []\n",
        "    for folder, label in zip(folders, labels):\n",
        "        print(f\"Processing {folder}...\")\n",
        "        files = os.listdir(folder)\n",
        "\n",
        "        # Ensure we only process up to `max_files_per_class` files\n",
        "        sampled_files = files[:max_files_per_class] if len(files) <= max_files_per_class else random.sample(files, max_files_per_class)\n",
        "\n",
        "        for file in tqdm(sampled_files):\n",
        "            file_path = os.path.join(folder, file)\n",
        "            mel_spectrogram = audio_to_mel_spectrogram(file_path, sr, n_mels, max_time_frames)\n",
        "            if mel_spectrogram is not None:\n",
        "                X.append(mel_spectrogram)\n",
        "                y.append(label)\n",
        "    return np.array(X), np.array(y)\n",
        "\n",
        "\n",
        "# Define dataset structure\n",
        "bonafide_folder = '/content/drive/MyDrive/LA_Dataset_Final/Bonafide'\n",
        "spoof_base_folder = '/content/drive/MyDrive/LA_Dataset_Final/Spoof'\n",
        "spoof_classes = ['A01', 'A02', 'A03', 'A04', 'A05', 'A06']\n",
        "\n",
        "folders = [bonafide_folder] + [os.path.join(spoof_base_folder, spoof_class) for spoof_class in spoof_classes]\n",
        "labels = [0] + [i + 1 for i in range(len(spoof_classes))]  # Bonafide=0, Spoof A01=1, A02=2, ...\n",
        "\n",
        "# Process only up to 2580 files per class\n",
        "X, y = load_data_from_folders(folders, labels, max_files_per_class=2580)\n",
        "\n",
        "print(f\"Loaded {len(X)} samples.\")\n",
        "print(f\"Shape of feature data: {X.shape}, Shape of labels: {y.shape}\")\n",
        "\n"
      ],
      "metadata": {
        "id": "3PS6r9BcVCa2",
        "colab": {
          "base_uri": "https://localhost:8080/"
        },
        "outputId": "36e03a64-53d0-4165-db47-462e1bb57936"
      },
      "execution_count": 4,
      "outputs": [
        {
          "output_type": "stream",
          "name": "stdout",
          "text": [
            "Processing /content/drive/MyDrive/LA_Dataset_Final/Bonafide...\n"
          ]
        },
        {
          "output_type": "stream",
          "name": "stderr",
          "text": [
            "100%|██████████| 2580/2580 [00:56<00:00, 46.01it/s]\n"
          ]
        },
        {
          "output_type": "stream",
          "name": "stdout",
          "text": [
            "Processing /content/drive/MyDrive/LA_Dataset_Final/Spoof/A01...\n"
          ]
        },
        {
          "output_type": "stream",
          "name": "stderr",
          "text": [
            "100%|██████████| 2580/2580 [01:22<00:00, 31.40it/s]\n"
          ]
        },
        {
          "output_type": "stream",
          "name": "stdout",
          "text": [
            "Processing /content/drive/MyDrive/LA_Dataset_Final/Spoof/A02...\n"
          ]
        },
        {
          "output_type": "stream",
          "name": "stderr",
          "text": [
            "100%|██████████| 2580/2580 [01:29<00:00, 28.85it/s]\n"
          ]
        },
        {
          "output_type": "stream",
          "name": "stdout",
          "text": [
            "Processing /content/drive/MyDrive/LA_Dataset_Final/Spoof/A03...\n"
          ]
        },
        {
          "output_type": "stream",
          "name": "stderr",
          "text": [
            "100%|██████████| 2580/2580 [01:25<00:00, 30.29it/s]\n"
          ]
        },
        {
          "output_type": "stream",
          "name": "stdout",
          "text": [
            "Processing /content/drive/MyDrive/LA_Dataset_Final/Spoof/A04...\n"
          ]
        },
        {
          "output_type": "stream",
          "name": "stderr",
          "text": [
            "100%|██████████| 2580/2580 [01:28<00:00, 29.08it/s]\n"
          ]
        },
        {
          "output_type": "stream",
          "name": "stdout",
          "text": [
            "Processing /content/drive/MyDrive/LA_Dataset_Final/Spoof/A05...\n"
          ]
        },
        {
          "output_type": "stream",
          "name": "stderr",
          "text": [
            "100%|██████████| 2580/2580 [01:31<00:00, 28.07it/s]\n"
          ]
        },
        {
          "output_type": "stream",
          "name": "stdout",
          "text": [
            "Processing /content/drive/MyDrive/LA_Dataset_Final/Spoof/A06...\n"
          ]
        },
        {
          "output_type": "stream",
          "name": "stderr",
          "text": [
            "100%|██████████| 2580/2580 [01:30<00:00, 28.49it/s]\n"
          ]
        },
        {
          "output_type": "stream",
          "name": "stdout",
          "text": [
            "Loaded 18060 samples.\n",
            "Shape of feature data: (18060, 256, 256), Shape of labels: (18060,)\n"
          ]
        }
      ]
    },
    {
      "cell_type": "code",
      "source": [
        "from sklearn.model_selection import train_test_split\n",
        "from sklearn.preprocessing import MinMaxScaler\n",
        "import numpy as np\n",
        "\n",
        "# Normalize each spectrogram independently to preserve spatial relationships\n",
        "scaler = MinMaxScaler()\n",
        "X_normalized = np.array([scaler.fit_transform(img) for img in X])\n",
        "\n",
        "X_train, X_temp, y_train, y_temp = train_test_split(\n",
        "    X_normalized, y, test_size=0.3, random_state=42, stratify=y\n",
        ")\n",
        "X_val, X_test, y_val, y_test = train_test_split(\n",
        "    X_temp, y_temp, test_size=0.5, random_state=42, stratify=y_temp\n",
        ")\n",
        "\n",
        "print(f\"Training set shape: {X_train.shape}, {y_train.shape}\")\n",
        "print(f\"Validation set shape: {X_val.shape}, {y_val.shape}\")\n",
        "print(f\"Test set shape: {X_test.shape}, {y_test.shape}\")\n",
        "\n",
        "# Reshaping for CNN input (Adding a channel dimension)\n",
        "X_train = X_train[..., np.newaxis]  # Channel = 1 as Mel Spectrograms are greyscale\n",
        "X_val = X_val[..., np.newaxis]\n",
        "X_test = X_test[..., np.newaxis]\n",
        "\n",
        "print(f\"Final input shape (for CNN): {X_train.shape}, {X_val.shape}, {X_test.shape}\")\n"
      ],
      "metadata": {
        "id": "jgJyuOFOVCdB",
        "colab": {
          "base_uri": "https://localhost:8080/"
        },
        "outputId": "4d88dfda-a93a-4b4d-96bd-286b304cd736"
      },
      "execution_count": 5,
      "outputs": [
        {
          "output_type": "stream",
          "name": "stdout",
          "text": [
            "Training set shape: (12642, 256, 256), (12642,)\n",
            "Validation set shape: (2709, 256, 256), (2709,)\n",
            "Test set shape: (2709, 256, 256), (2709,)\n",
            "Final input shape (for CNN): (12642, 256, 256, 1), (2709, 256, 256, 1), (2709, 256, 256, 1)\n"
          ]
        }
      ]
    },
    {
      "cell_type": "code",
      "source": [
        "import tensorflow as tf\n",
        "from tensorflow.keras.layers import (\n",
        "    Input,\n",
        "    Conv2D,\n",
        "    MaxPooling2D,\n",
        "    Flatten,\n",
        "    Dense,\n",
        "    Dropout,\n",
        "    Reshape,\n",
        "    LSTM,\n",
        "    BatchNormalization,\n",
        "    GlobalAveragePooling2D\n",
        ")\n",
        "from tensorflow.keras.models import Model\n",
        "from tensorflow.keras.regularizers import l2\n",
        "\n",
        "def build_stronger_cnn_lstm_model_v2(input_shape, num_classes):\n",
        "    inputs = Input(shape=input_shape)\n",
        "\n",
        "    # CNN Layers\n",
        "    x = Conv2D(64, (3, 3), activation='relu', padding='same', kernel_regularizer=l2(0.01))(inputs)\n",
        "    x = BatchNormalization()(x)\n",
        "    x = MaxPooling2D(pool_size=(2, 2))(x)\n",
        "\n",
        "    x = Conv2D(128, (3, 3), activation='relu', padding='same', kernel_regularizer=l2(0.01))(x)\n",
        "    x = BatchNormalization()(x)\n",
        "    x = MaxPooling2D(pool_size=(2, 2))(x)\n",
        "\n",
        "    x = Conv2D(256, (3, 3), activation='relu', padding='same', kernel_regularizer=l2(0.01))(x)\n",
        "    x = BatchNormalization()(x)\n",
        "    x = MaxPooling2D(pool_size=(2, 2))(x)\n",
        "\n",
        "    x = Conv2D(512, (3, 3), activation='relu', padding='same', kernel_regularizer=l2(0.01))(x)\n",
        "    x = BatchNormalization()(x)\n",
        "    x = MaxPooling2D(pool_size=(2, 2))(x)\n",
        "\n",
        "    # Reshape for LSTM\n",
        "    x = Reshape((x.shape[1], -1))(x)\n",
        "\n",
        "    # LSTM Layers\n",
        "    x = LSTM(512, return_sequences=True, dropout=0.3)(x)  # Increased LSTM units\n",
        "    x = LSTM(256, dropout=0.3)(x)  # Increased LSTM units\n",
        "\n",
        "    # Fully Connected Layers\n",
        "    x = Dense(512, activation='relu', kernel_regularizer=l2(0.01))(x)  # Increased neurons\n",
        "    x = Dropout(0.5)(x)  # Increased dropout for regularization\n",
        "    x = Dense(256, activation='relu', kernel_regularizer=l2(0.01))(x)\n",
        "    x = Dropout(0.5)(x)  # Increased dropout\n",
        "\n",
        "    outputs = Dense(num_classes, activation='softmax')(x)\n",
        "\n",
        "    model = Model(inputs, outputs)\n",
        "    return model\n",
        "\n",
        "# Define input shape and number of classes\n",
        "input_shape = (256, 256, 1)  # Replace with your dataset's input shape\n",
        "num_classes = 7  # Replace with the number of classes in your dataset\n",
        "\n",
        "# Build the model\n",
        "model = build_stronger_cnn_lstm_model_v2(input_shape, num_classes)\n",
        "\n",
        "# Compile the model with AdamW optimizer\n",
        "model.compile(optimizer=tf.keras.optimizers.AdamW(learning_rate=1e-4),\n",
        "              loss='sparse_categorical_crossentropy',\n",
        "              metrics=['accuracy'])\n",
        "\n",
        "# Model Summary\n",
        "model.summary()\n"
      ],
      "metadata": {
        "id": "D6jny5_PSu9P",
        "colab": {
          "base_uri": "https://localhost:8080/",
          "height": 865
        },
        "outputId": "d0ca0246-43d6-432f-a77d-fa5bca6c2a18"
      },
      "execution_count": 6,
      "outputs": [
        {
          "output_type": "display_data",
          "data": {
            "text/plain": [
              "\u001b[1mModel: \"functional\"\u001b[0m\n"
            ],
            "text/html": [
              "<pre style=\"white-space:pre;overflow-x:auto;line-height:normal;font-family:Menlo,'DejaVu Sans Mono',consolas,'Courier New',monospace\"><span style=\"font-weight: bold\">Model: \"functional\"</span>\n",
              "</pre>\n"
            ]
          },
          "metadata": {}
        },
        {
          "output_type": "display_data",
          "data": {
            "text/plain": [
              "┏━━━━━━━━━━━━━━━━━━━━━━━━━━━━━━━━━━━━━━┳━━━━━━━━━━━━━━━━━━━━━━━━━━━━━┳━━━━━━━━━━━━━━━━━┓\n",
              "┃\u001b[1m \u001b[0m\u001b[1mLayer (type)                        \u001b[0m\u001b[1m \u001b[0m┃\u001b[1m \u001b[0m\u001b[1mOutput Shape               \u001b[0m\u001b[1m \u001b[0m┃\u001b[1m \u001b[0m\u001b[1m        Param #\u001b[0m\u001b[1m \u001b[0m┃\n",
              "┡━━━━━━━━━━━━━━━━━━━━━━━━━━━━━━━━━━━━━━╇━━━━━━━━━━━━━━━━━━━━━━━━━━━━━╇━━━━━━━━━━━━━━━━━┩\n",
              "│ input_layer (\u001b[38;5;33mInputLayer\u001b[0m)             │ (\u001b[38;5;45mNone\u001b[0m, \u001b[38;5;34m256\u001b[0m, \u001b[38;5;34m256\u001b[0m, \u001b[38;5;34m1\u001b[0m)         │               \u001b[38;5;34m0\u001b[0m │\n",
              "├──────────────────────────────────────┼─────────────────────────────┼─────────────────┤\n",
              "│ conv2d (\u001b[38;5;33mConv2D\u001b[0m)                      │ (\u001b[38;5;45mNone\u001b[0m, \u001b[38;5;34m256\u001b[0m, \u001b[38;5;34m256\u001b[0m, \u001b[38;5;34m64\u001b[0m)        │             \u001b[38;5;34m640\u001b[0m │\n",
              "├──────────────────────────────────────┼─────────────────────────────┼─────────────────┤\n",
              "│ batch_normalization                  │ (\u001b[38;5;45mNone\u001b[0m, \u001b[38;5;34m256\u001b[0m, \u001b[38;5;34m256\u001b[0m, \u001b[38;5;34m64\u001b[0m)        │             \u001b[38;5;34m256\u001b[0m │\n",
              "│ (\u001b[38;5;33mBatchNormalization\u001b[0m)                 │                             │                 │\n",
              "├──────────────────────────────────────┼─────────────────────────────┼─────────────────┤\n",
              "│ max_pooling2d (\u001b[38;5;33mMaxPooling2D\u001b[0m)         │ (\u001b[38;5;45mNone\u001b[0m, \u001b[38;5;34m128\u001b[0m, \u001b[38;5;34m128\u001b[0m, \u001b[38;5;34m64\u001b[0m)        │               \u001b[38;5;34m0\u001b[0m │\n",
              "├──────────────────────────────────────┼─────────────────────────────┼─────────────────┤\n",
              "│ conv2d_1 (\u001b[38;5;33mConv2D\u001b[0m)                    │ (\u001b[38;5;45mNone\u001b[0m, \u001b[38;5;34m128\u001b[0m, \u001b[38;5;34m128\u001b[0m, \u001b[38;5;34m128\u001b[0m)       │          \u001b[38;5;34m73,856\u001b[0m │\n",
              "├──────────────────────────────────────┼─────────────────────────────┼─────────────────┤\n",
              "│ batch_normalization_1                │ (\u001b[38;5;45mNone\u001b[0m, \u001b[38;5;34m128\u001b[0m, \u001b[38;5;34m128\u001b[0m, \u001b[38;5;34m128\u001b[0m)       │             \u001b[38;5;34m512\u001b[0m │\n",
              "│ (\u001b[38;5;33mBatchNormalization\u001b[0m)                 │                             │                 │\n",
              "├──────────────────────────────────────┼─────────────────────────────┼─────────────────┤\n",
              "│ max_pooling2d_1 (\u001b[38;5;33mMaxPooling2D\u001b[0m)       │ (\u001b[38;5;45mNone\u001b[0m, \u001b[38;5;34m64\u001b[0m, \u001b[38;5;34m64\u001b[0m, \u001b[38;5;34m128\u001b[0m)         │               \u001b[38;5;34m0\u001b[0m │\n",
              "├──────────────────────────────────────┼─────────────────────────────┼─────────────────┤\n",
              "│ conv2d_2 (\u001b[38;5;33mConv2D\u001b[0m)                    │ (\u001b[38;5;45mNone\u001b[0m, \u001b[38;5;34m64\u001b[0m, \u001b[38;5;34m64\u001b[0m, \u001b[38;5;34m256\u001b[0m)         │         \u001b[38;5;34m295,168\u001b[0m │\n",
              "├──────────────────────────────────────┼─────────────────────────────┼─────────────────┤\n",
              "│ batch_normalization_2                │ (\u001b[38;5;45mNone\u001b[0m, \u001b[38;5;34m64\u001b[0m, \u001b[38;5;34m64\u001b[0m, \u001b[38;5;34m256\u001b[0m)         │           \u001b[38;5;34m1,024\u001b[0m │\n",
              "│ (\u001b[38;5;33mBatchNormalization\u001b[0m)                 │                             │                 │\n",
              "├──────────────────────────────────────┼─────────────────────────────┼─────────────────┤\n",
              "│ max_pooling2d_2 (\u001b[38;5;33mMaxPooling2D\u001b[0m)       │ (\u001b[38;5;45mNone\u001b[0m, \u001b[38;5;34m32\u001b[0m, \u001b[38;5;34m32\u001b[0m, \u001b[38;5;34m256\u001b[0m)         │               \u001b[38;5;34m0\u001b[0m │\n",
              "├──────────────────────────────────────┼─────────────────────────────┼─────────────────┤\n",
              "│ conv2d_3 (\u001b[38;5;33mConv2D\u001b[0m)                    │ (\u001b[38;5;45mNone\u001b[0m, \u001b[38;5;34m32\u001b[0m, \u001b[38;5;34m32\u001b[0m, \u001b[38;5;34m512\u001b[0m)         │       \u001b[38;5;34m1,180,160\u001b[0m │\n",
              "├──────────────────────────────────────┼─────────────────────────────┼─────────────────┤\n",
              "│ batch_normalization_3                │ (\u001b[38;5;45mNone\u001b[0m, \u001b[38;5;34m32\u001b[0m, \u001b[38;5;34m32\u001b[0m, \u001b[38;5;34m512\u001b[0m)         │           \u001b[38;5;34m2,048\u001b[0m │\n",
              "│ (\u001b[38;5;33mBatchNormalization\u001b[0m)                 │                             │                 │\n",
              "├──────────────────────────────────────┼─────────────────────────────┼─────────────────┤\n",
              "│ max_pooling2d_3 (\u001b[38;5;33mMaxPooling2D\u001b[0m)       │ (\u001b[38;5;45mNone\u001b[0m, \u001b[38;5;34m16\u001b[0m, \u001b[38;5;34m16\u001b[0m, \u001b[38;5;34m512\u001b[0m)         │               \u001b[38;5;34m0\u001b[0m │\n",
              "├──────────────────────────────────────┼─────────────────────────────┼─────────────────┤\n",
              "│ reshape (\u001b[38;5;33mReshape\u001b[0m)                    │ (\u001b[38;5;45mNone\u001b[0m, \u001b[38;5;34m16\u001b[0m, \u001b[38;5;34m8192\u001b[0m)            │               \u001b[38;5;34m0\u001b[0m │\n",
              "├──────────────────────────────────────┼─────────────────────────────┼─────────────────┤\n",
              "│ lstm (\u001b[38;5;33mLSTM\u001b[0m)                          │ (\u001b[38;5;45mNone\u001b[0m, \u001b[38;5;34m16\u001b[0m, \u001b[38;5;34m512\u001b[0m)             │      \u001b[38;5;34m17,827,840\u001b[0m │\n",
              "├──────────────────────────────────────┼─────────────────────────────┼─────────────────┤\n",
              "│ lstm_1 (\u001b[38;5;33mLSTM\u001b[0m)                        │ (\u001b[38;5;45mNone\u001b[0m, \u001b[38;5;34m256\u001b[0m)                 │         \u001b[38;5;34m787,456\u001b[0m │\n",
              "├──────────────────────────────────────┼─────────────────────────────┼─────────────────┤\n",
              "│ dense (\u001b[38;5;33mDense\u001b[0m)                        │ (\u001b[38;5;45mNone\u001b[0m, \u001b[38;5;34m512\u001b[0m)                 │         \u001b[38;5;34m131,584\u001b[0m │\n",
              "├──────────────────────────────────────┼─────────────────────────────┼─────────────────┤\n",
              "│ dropout (\u001b[38;5;33mDropout\u001b[0m)                    │ (\u001b[38;5;45mNone\u001b[0m, \u001b[38;5;34m512\u001b[0m)                 │               \u001b[38;5;34m0\u001b[0m │\n",
              "├──────────────────────────────────────┼─────────────────────────────┼─────────────────┤\n",
              "│ dense_1 (\u001b[38;5;33mDense\u001b[0m)                      │ (\u001b[38;5;45mNone\u001b[0m, \u001b[38;5;34m256\u001b[0m)                 │         \u001b[38;5;34m131,328\u001b[0m │\n",
              "├──────────────────────────────────────┼─────────────────────────────┼─────────────────┤\n",
              "│ dropout_1 (\u001b[38;5;33mDropout\u001b[0m)                  │ (\u001b[38;5;45mNone\u001b[0m, \u001b[38;5;34m256\u001b[0m)                 │               \u001b[38;5;34m0\u001b[0m │\n",
              "├──────────────────────────────────────┼─────────────────────────────┼─────────────────┤\n",
              "│ dense_2 (\u001b[38;5;33mDense\u001b[0m)                      │ (\u001b[38;5;45mNone\u001b[0m, \u001b[38;5;34m7\u001b[0m)                   │           \u001b[38;5;34m1,799\u001b[0m │\n",
              "└──────────────────────────────────────┴─────────────────────────────┴─────────────────┘\n"
            ],
            "text/html": [
              "<pre style=\"white-space:pre;overflow-x:auto;line-height:normal;font-family:Menlo,'DejaVu Sans Mono',consolas,'Courier New',monospace\">┏━━━━━━━━━━━━━━━━━━━━━━━━━━━━━━━━━━━━━━┳━━━━━━━━━━━━━━━━━━━━━━━━━━━━━┳━━━━━━━━━━━━━━━━━┓\n",
              "┃<span style=\"font-weight: bold\"> Layer (type)                         </span>┃<span style=\"font-weight: bold\"> Output Shape                </span>┃<span style=\"font-weight: bold\">         Param # </span>┃\n",
              "┡━━━━━━━━━━━━━━━━━━━━━━━━━━━━━━━━━━━━━━╇━━━━━━━━━━━━━━━━━━━━━━━━━━━━━╇━━━━━━━━━━━━━━━━━┩\n",
              "│ input_layer (<span style=\"color: #0087ff; text-decoration-color: #0087ff\">InputLayer</span>)             │ (<span style=\"color: #00d7ff; text-decoration-color: #00d7ff\">None</span>, <span style=\"color: #00af00; text-decoration-color: #00af00\">256</span>, <span style=\"color: #00af00; text-decoration-color: #00af00\">256</span>, <span style=\"color: #00af00; text-decoration-color: #00af00\">1</span>)         │               <span style=\"color: #00af00; text-decoration-color: #00af00\">0</span> │\n",
              "├──────────────────────────────────────┼─────────────────────────────┼─────────────────┤\n",
              "│ conv2d (<span style=\"color: #0087ff; text-decoration-color: #0087ff\">Conv2D</span>)                      │ (<span style=\"color: #00d7ff; text-decoration-color: #00d7ff\">None</span>, <span style=\"color: #00af00; text-decoration-color: #00af00\">256</span>, <span style=\"color: #00af00; text-decoration-color: #00af00\">256</span>, <span style=\"color: #00af00; text-decoration-color: #00af00\">64</span>)        │             <span style=\"color: #00af00; text-decoration-color: #00af00\">640</span> │\n",
              "├──────────────────────────────────────┼─────────────────────────────┼─────────────────┤\n",
              "│ batch_normalization                  │ (<span style=\"color: #00d7ff; text-decoration-color: #00d7ff\">None</span>, <span style=\"color: #00af00; text-decoration-color: #00af00\">256</span>, <span style=\"color: #00af00; text-decoration-color: #00af00\">256</span>, <span style=\"color: #00af00; text-decoration-color: #00af00\">64</span>)        │             <span style=\"color: #00af00; text-decoration-color: #00af00\">256</span> │\n",
              "│ (<span style=\"color: #0087ff; text-decoration-color: #0087ff\">BatchNormalization</span>)                 │                             │                 │\n",
              "├──────────────────────────────────────┼─────────────────────────────┼─────────────────┤\n",
              "│ max_pooling2d (<span style=\"color: #0087ff; text-decoration-color: #0087ff\">MaxPooling2D</span>)         │ (<span style=\"color: #00d7ff; text-decoration-color: #00d7ff\">None</span>, <span style=\"color: #00af00; text-decoration-color: #00af00\">128</span>, <span style=\"color: #00af00; text-decoration-color: #00af00\">128</span>, <span style=\"color: #00af00; text-decoration-color: #00af00\">64</span>)        │               <span style=\"color: #00af00; text-decoration-color: #00af00\">0</span> │\n",
              "├──────────────────────────────────────┼─────────────────────────────┼─────────────────┤\n",
              "│ conv2d_1 (<span style=\"color: #0087ff; text-decoration-color: #0087ff\">Conv2D</span>)                    │ (<span style=\"color: #00d7ff; text-decoration-color: #00d7ff\">None</span>, <span style=\"color: #00af00; text-decoration-color: #00af00\">128</span>, <span style=\"color: #00af00; text-decoration-color: #00af00\">128</span>, <span style=\"color: #00af00; text-decoration-color: #00af00\">128</span>)       │          <span style=\"color: #00af00; text-decoration-color: #00af00\">73,856</span> │\n",
              "├──────────────────────────────────────┼─────────────────────────────┼─────────────────┤\n",
              "│ batch_normalization_1                │ (<span style=\"color: #00d7ff; text-decoration-color: #00d7ff\">None</span>, <span style=\"color: #00af00; text-decoration-color: #00af00\">128</span>, <span style=\"color: #00af00; text-decoration-color: #00af00\">128</span>, <span style=\"color: #00af00; text-decoration-color: #00af00\">128</span>)       │             <span style=\"color: #00af00; text-decoration-color: #00af00\">512</span> │\n",
              "│ (<span style=\"color: #0087ff; text-decoration-color: #0087ff\">BatchNormalization</span>)                 │                             │                 │\n",
              "├──────────────────────────────────────┼─────────────────────────────┼─────────────────┤\n",
              "│ max_pooling2d_1 (<span style=\"color: #0087ff; text-decoration-color: #0087ff\">MaxPooling2D</span>)       │ (<span style=\"color: #00d7ff; text-decoration-color: #00d7ff\">None</span>, <span style=\"color: #00af00; text-decoration-color: #00af00\">64</span>, <span style=\"color: #00af00; text-decoration-color: #00af00\">64</span>, <span style=\"color: #00af00; text-decoration-color: #00af00\">128</span>)         │               <span style=\"color: #00af00; text-decoration-color: #00af00\">0</span> │\n",
              "├──────────────────────────────────────┼─────────────────────────────┼─────────────────┤\n",
              "│ conv2d_2 (<span style=\"color: #0087ff; text-decoration-color: #0087ff\">Conv2D</span>)                    │ (<span style=\"color: #00d7ff; text-decoration-color: #00d7ff\">None</span>, <span style=\"color: #00af00; text-decoration-color: #00af00\">64</span>, <span style=\"color: #00af00; text-decoration-color: #00af00\">64</span>, <span style=\"color: #00af00; text-decoration-color: #00af00\">256</span>)         │         <span style=\"color: #00af00; text-decoration-color: #00af00\">295,168</span> │\n",
              "├──────────────────────────────────────┼─────────────────────────────┼─────────────────┤\n",
              "│ batch_normalization_2                │ (<span style=\"color: #00d7ff; text-decoration-color: #00d7ff\">None</span>, <span style=\"color: #00af00; text-decoration-color: #00af00\">64</span>, <span style=\"color: #00af00; text-decoration-color: #00af00\">64</span>, <span style=\"color: #00af00; text-decoration-color: #00af00\">256</span>)         │           <span style=\"color: #00af00; text-decoration-color: #00af00\">1,024</span> │\n",
              "│ (<span style=\"color: #0087ff; text-decoration-color: #0087ff\">BatchNormalization</span>)                 │                             │                 │\n",
              "├──────────────────────────────────────┼─────────────────────────────┼─────────────────┤\n",
              "│ max_pooling2d_2 (<span style=\"color: #0087ff; text-decoration-color: #0087ff\">MaxPooling2D</span>)       │ (<span style=\"color: #00d7ff; text-decoration-color: #00d7ff\">None</span>, <span style=\"color: #00af00; text-decoration-color: #00af00\">32</span>, <span style=\"color: #00af00; text-decoration-color: #00af00\">32</span>, <span style=\"color: #00af00; text-decoration-color: #00af00\">256</span>)         │               <span style=\"color: #00af00; text-decoration-color: #00af00\">0</span> │\n",
              "├──────────────────────────────────────┼─────────────────────────────┼─────────────────┤\n",
              "│ conv2d_3 (<span style=\"color: #0087ff; text-decoration-color: #0087ff\">Conv2D</span>)                    │ (<span style=\"color: #00d7ff; text-decoration-color: #00d7ff\">None</span>, <span style=\"color: #00af00; text-decoration-color: #00af00\">32</span>, <span style=\"color: #00af00; text-decoration-color: #00af00\">32</span>, <span style=\"color: #00af00; text-decoration-color: #00af00\">512</span>)         │       <span style=\"color: #00af00; text-decoration-color: #00af00\">1,180,160</span> │\n",
              "├──────────────────────────────────────┼─────────────────────────────┼─────────────────┤\n",
              "│ batch_normalization_3                │ (<span style=\"color: #00d7ff; text-decoration-color: #00d7ff\">None</span>, <span style=\"color: #00af00; text-decoration-color: #00af00\">32</span>, <span style=\"color: #00af00; text-decoration-color: #00af00\">32</span>, <span style=\"color: #00af00; text-decoration-color: #00af00\">512</span>)         │           <span style=\"color: #00af00; text-decoration-color: #00af00\">2,048</span> │\n",
              "│ (<span style=\"color: #0087ff; text-decoration-color: #0087ff\">BatchNormalization</span>)                 │                             │                 │\n",
              "├──────────────────────────────────────┼─────────────────────────────┼─────────────────┤\n",
              "│ max_pooling2d_3 (<span style=\"color: #0087ff; text-decoration-color: #0087ff\">MaxPooling2D</span>)       │ (<span style=\"color: #00d7ff; text-decoration-color: #00d7ff\">None</span>, <span style=\"color: #00af00; text-decoration-color: #00af00\">16</span>, <span style=\"color: #00af00; text-decoration-color: #00af00\">16</span>, <span style=\"color: #00af00; text-decoration-color: #00af00\">512</span>)         │               <span style=\"color: #00af00; text-decoration-color: #00af00\">0</span> │\n",
              "├──────────────────────────────────────┼─────────────────────────────┼─────────────────┤\n",
              "│ reshape (<span style=\"color: #0087ff; text-decoration-color: #0087ff\">Reshape</span>)                    │ (<span style=\"color: #00d7ff; text-decoration-color: #00d7ff\">None</span>, <span style=\"color: #00af00; text-decoration-color: #00af00\">16</span>, <span style=\"color: #00af00; text-decoration-color: #00af00\">8192</span>)            │               <span style=\"color: #00af00; text-decoration-color: #00af00\">0</span> │\n",
              "├──────────────────────────────────────┼─────────────────────────────┼─────────────────┤\n",
              "│ lstm (<span style=\"color: #0087ff; text-decoration-color: #0087ff\">LSTM</span>)                          │ (<span style=\"color: #00d7ff; text-decoration-color: #00d7ff\">None</span>, <span style=\"color: #00af00; text-decoration-color: #00af00\">16</span>, <span style=\"color: #00af00; text-decoration-color: #00af00\">512</span>)             │      <span style=\"color: #00af00; text-decoration-color: #00af00\">17,827,840</span> │\n",
              "├──────────────────────────────────────┼─────────────────────────────┼─────────────────┤\n",
              "│ lstm_1 (<span style=\"color: #0087ff; text-decoration-color: #0087ff\">LSTM</span>)                        │ (<span style=\"color: #00d7ff; text-decoration-color: #00d7ff\">None</span>, <span style=\"color: #00af00; text-decoration-color: #00af00\">256</span>)                 │         <span style=\"color: #00af00; text-decoration-color: #00af00\">787,456</span> │\n",
              "├──────────────────────────────────────┼─────────────────────────────┼─────────────────┤\n",
              "│ dense (<span style=\"color: #0087ff; text-decoration-color: #0087ff\">Dense</span>)                        │ (<span style=\"color: #00d7ff; text-decoration-color: #00d7ff\">None</span>, <span style=\"color: #00af00; text-decoration-color: #00af00\">512</span>)                 │         <span style=\"color: #00af00; text-decoration-color: #00af00\">131,584</span> │\n",
              "├──────────────────────────────────────┼─────────────────────────────┼─────────────────┤\n",
              "│ dropout (<span style=\"color: #0087ff; text-decoration-color: #0087ff\">Dropout</span>)                    │ (<span style=\"color: #00d7ff; text-decoration-color: #00d7ff\">None</span>, <span style=\"color: #00af00; text-decoration-color: #00af00\">512</span>)                 │               <span style=\"color: #00af00; text-decoration-color: #00af00\">0</span> │\n",
              "├──────────────────────────────────────┼─────────────────────────────┼─────────────────┤\n",
              "│ dense_1 (<span style=\"color: #0087ff; text-decoration-color: #0087ff\">Dense</span>)                      │ (<span style=\"color: #00d7ff; text-decoration-color: #00d7ff\">None</span>, <span style=\"color: #00af00; text-decoration-color: #00af00\">256</span>)                 │         <span style=\"color: #00af00; text-decoration-color: #00af00\">131,328</span> │\n",
              "├──────────────────────────────────────┼─────────────────────────────┼─────────────────┤\n",
              "│ dropout_1 (<span style=\"color: #0087ff; text-decoration-color: #0087ff\">Dropout</span>)                  │ (<span style=\"color: #00d7ff; text-decoration-color: #00d7ff\">None</span>, <span style=\"color: #00af00; text-decoration-color: #00af00\">256</span>)                 │               <span style=\"color: #00af00; text-decoration-color: #00af00\">0</span> │\n",
              "├──────────────────────────────────────┼─────────────────────────────┼─────────────────┤\n",
              "│ dense_2 (<span style=\"color: #0087ff; text-decoration-color: #0087ff\">Dense</span>)                      │ (<span style=\"color: #00d7ff; text-decoration-color: #00d7ff\">None</span>, <span style=\"color: #00af00; text-decoration-color: #00af00\">7</span>)                   │           <span style=\"color: #00af00; text-decoration-color: #00af00\">1,799</span> │\n",
              "└──────────────────────────────────────┴─────────────────────────────┴─────────────────┘\n",
              "</pre>\n"
            ]
          },
          "metadata": {}
        },
        {
          "output_type": "display_data",
          "data": {
            "text/plain": [
              "\u001b[1m Total params: \u001b[0m\u001b[38;5;34m20,433,671\u001b[0m (77.95 MB)\n"
            ],
            "text/html": [
              "<pre style=\"white-space:pre;overflow-x:auto;line-height:normal;font-family:Menlo,'DejaVu Sans Mono',consolas,'Courier New',monospace\"><span style=\"font-weight: bold\"> Total params: </span><span style=\"color: #00af00; text-decoration-color: #00af00\">20,433,671</span> (77.95 MB)\n",
              "</pre>\n"
            ]
          },
          "metadata": {}
        },
        {
          "output_type": "display_data",
          "data": {
            "text/plain": [
              "\u001b[1m Trainable params: \u001b[0m\u001b[38;5;34m20,431,751\u001b[0m (77.94 MB)\n"
            ],
            "text/html": [
              "<pre style=\"white-space:pre;overflow-x:auto;line-height:normal;font-family:Menlo,'DejaVu Sans Mono',consolas,'Courier New',monospace\"><span style=\"font-weight: bold\"> Trainable params: </span><span style=\"color: #00af00; text-decoration-color: #00af00\">20,431,751</span> (77.94 MB)\n",
              "</pre>\n"
            ]
          },
          "metadata": {}
        },
        {
          "output_type": "display_data",
          "data": {
            "text/plain": [
              "\u001b[1m Non-trainable params: \u001b[0m\u001b[38;5;34m1,920\u001b[0m (7.50 KB)\n"
            ],
            "text/html": [
              "<pre style=\"white-space:pre;overflow-x:auto;line-height:normal;font-family:Menlo,'DejaVu Sans Mono',consolas,'Courier New',monospace\"><span style=\"font-weight: bold\"> Non-trainable params: </span><span style=\"color: #00af00; text-decoration-color: #00af00\">1,920</span> (7.50 KB)\n",
              "</pre>\n"
            ]
          },
          "metadata": {}
        }
      ]
    },
    {
      "cell_type": "code",
      "source": [
        "from tensorflow.keras.callbacks import EarlyStopping, ReduceLROnPlateau\n",
        "\n",
        "# Set up Early Stopping and Learning Rate Reduction\n",
        "early_stopping = EarlyStopping(monitor='val_loss', patience=5, restore_best_weights=True)\n",
        "lr_reduction = ReduceLROnPlateau(monitor='val_loss', patience=3, factor=0.5, min_lr=0.00001)\n",
        "\n",
        "# Train the model\n",
        "history = model.fit(\n",
        "    X_train,\n",
        "    y_train,\n",
        "    validation_data=(X_val, y_val),\n",
        "    batch_size=32,\n",
        "    epochs=50,\n",
        "    verbose=1,\n",
        "    callbacks=[early_stopping, lr_reduction]\n",
        ")\n",
        "\n",
        "# Evaluate the model on the test set\n",
        "test_loss, test_accuracy = model.evaluate(X_test, y_test, verbose=1)\n",
        "print(f\"Test Loss: {test_loss:.4f}\")\n",
        "print(f\"Test Accuracy: {test_accuracy:.4f}\")\n"
      ],
      "metadata": {
        "id": "KF1rWk2iSMq9",
        "colab": {
          "base_uri": "https://localhost:8080/"
        },
        "outputId": "5ade0cd1-b6c0-4ac7-ee73-ff10a2533bc4"
      },
      "execution_count": 7,
      "outputs": [
        {
          "output_type": "stream",
          "name": "stdout",
          "text": [
            "Epoch 1/50\n",
            "\u001b[1m396/396\u001b[0m \u001b[32m━━━━━━━━━━━━━━━━━━━━\u001b[0m\u001b[37m\u001b[0m \u001b[1m45s\u001b[0m 87ms/step - accuracy: 0.3910 - loss: 12.8192 - val_accuracy: 0.2344 - val_loss: 9.8388 - learning_rate: 1.0000e-04\n",
            "Epoch 2/50\n",
            "\u001b[1m396/396\u001b[0m \u001b[32m━━━━━━━━━━━━━━━━━━━━\u001b[0m\u001b[37m\u001b[0m \u001b[1m30s\u001b[0m 76ms/step - accuracy: 0.8007 - loss: 7.2802 - val_accuracy: 0.7604 - val_loss: 5.3404 - learning_rate: 1.0000e-04\n",
            "Epoch 3/50\n",
            "\u001b[1m396/396\u001b[0m \u001b[32m━━━━━━━━━━━━━━━━━━━━\u001b[0m\u001b[37m\u001b[0m \u001b[1m30s\u001b[0m 76ms/step - accuracy: 0.8807 - loss: 4.5871 - val_accuracy: 0.8509 - val_loss: 3.4095 - learning_rate: 1.0000e-04\n",
            "Epoch 4/50\n",
            "\u001b[1m396/396\u001b[0m \u001b[32m━━━━━━━━━━━━━━━━━━━━\u001b[0m\u001b[37m\u001b[0m \u001b[1m30s\u001b[0m 77ms/step - accuracy: 0.9110 - loss: 3.0068 - val_accuracy: 0.8435 - val_loss: 2.4525 - learning_rate: 1.0000e-04\n",
            "Epoch 5/50\n",
            "\u001b[1m396/396\u001b[0m \u001b[32m━━━━━━━━━━━━━━━━━━━━\u001b[0m\u001b[37m\u001b[0m \u001b[1m30s\u001b[0m 77ms/step - accuracy: 0.9332 - loss: 2.0166 - val_accuracy: 0.8069 - val_loss: 2.0614 - learning_rate: 1.0000e-04\n",
            "Epoch 6/50\n",
            "\u001b[1m396/396\u001b[0m \u001b[32m━━━━━━━━━━━━━━━━━━━━\u001b[0m\u001b[37m\u001b[0m \u001b[1m30s\u001b[0m 76ms/step - accuracy: 0.9462 - loss: 1.4114 - val_accuracy: 0.7992 - val_loss: 1.6966 - learning_rate: 1.0000e-04\n",
            "Epoch 7/50\n",
            "\u001b[1m396/396\u001b[0m \u001b[32m━━━━━━━━━━━━━━━━━━━━\u001b[0m\u001b[37m\u001b[0m \u001b[1m30s\u001b[0m 76ms/step - accuracy: 0.9573 - loss: 1.0413 - val_accuracy: 0.8597 - val_loss: 1.0703 - learning_rate: 1.0000e-04\n",
            "Epoch 8/50\n",
            "\u001b[1m396/396\u001b[0m \u001b[32m━━━━━━━━━━━━━━━━━━━━\u001b[0m\u001b[37m\u001b[0m \u001b[1m30s\u001b[0m 76ms/step - accuracy: 0.9580 - loss: 0.8121 - val_accuracy: 0.8977 - val_loss: 0.8677 - learning_rate: 1.0000e-04\n",
            "Epoch 9/50\n",
            "\u001b[1m396/396\u001b[0m \u001b[32m━━━━━━━━━━━━━━━━━━━━\u001b[0m\u001b[37m\u001b[0m \u001b[1m30s\u001b[0m 76ms/step - accuracy: 0.9637 - loss: 0.6481 - val_accuracy: 0.7741 - val_loss: 1.3422 - learning_rate: 1.0000e-04\n",
            "Epoch 10/50\n",
            "\u001b[1m396/396\u001b[0m \u001b[32m━━━━━━━━━━━━━━━━━━━━\u001b[0m\u001b[37m\u001b[0m \u001b[1m30s\u001b[0m 76ms/step - accuracy: 0.9649 - loss: 0.5658 - val_accuracy: 0.9686 - val_loss: 0.4978 - learning_rate: 1.0000e-04\n",
            "Epoch 11/50\n",
            "\u001b[1m396/396\u001b[0m \u001b[32m━━━━━━━━━━━━━━━━━━━━\u001b[0m\u001b[37m\u001b[0m \u001b[1m30s\u001b[0m 76ms/step - accuracy: 0.9722 - loss: 0.4791 - val_accuracy: 0.9450 - val_loss: 0.5025 - learning_rate: 1.0000e-04\n",
            "Epoch 12/50\n",
            "\u001b[1m396/396\u001b[0m \u001b[32m━━━━━━━━━━━━━━━━━━━━\u001b[0m\u001b[37m\u001b[0m \u001b[1m30s\u001b[0m 76ms/step - accuracy: 0.9751 - loss: 0.4266 - val_accuracy: 0.9505 - val_loss: 0.4622 - learning_rate: 1.0000e-04\n",
            "Epoch 13/50\n",
            "\u001b[1m396/396\u001b[0m \u001b[32m━━━━━━━━━━━━━━━━━━━━\u001b[0m\u001b[37m\u001b[0m \u001b[1m30s\u001b[0m 77ms/step - accuracy: 0.9801 - loss: 0.3874 - val_accuracy: 0.9779 - val_loss: 0.3603 - learning_rate: 1.0000e-04\n",
            "Epoch 14/50\n",
            "\u001b[1m396/396\u001b[0m \u001b[32m━━━━━━━━━━━━━━━━━━━━\u001b[0m\u001b[37m\u001b[0m \u001b[1m30s\u001b[0m 77ms/step - accuracy: 0.9838 - loss: 0.3451 - val_accuracy: 0.9361 - val_loss: 0.4852 - learning_rate: 1.0000e-04\n",
            "Epoch 15/50\n",
            "\u001b[1m396/396\u001b[0m \u001b[32m━━━━━━━━━━━━━━━━━━━━\u001b[0m\u001b[37m\u001b[0m \u001b[1m30s\u001b[0m 77ms/step - accuracy: 0.9803 - loss: 0.3444 - val_accuracy: 0.9731 - val_loss: 0.3564 - learning_rate: 1.0000e-04\n",
            "Epoch 16/50\n",
            "\u001b[1m396/396\u001b[0m \u001b[32m━━━━━━━━━━━━━━━━━━━━\u001b[0m\u001b[37m\u001b[0m \u001b[1m30s\u001b[0m 77ms/step - accuracy: 0.9871 - loss: 0.3096 - val_accuracy: 0.9081 - val_loss: 0.4965 - learning_rate: 1.0000e-04\n",
            "Epoch 17/50\n",
            "\u001b[1m396/396\u001b[0m \u001b[32m━━━━━━━━━━━━━━━━━━━━\u001b[0m\u001b[37m\u001b[0m \u001b[1m30s\u001b[0m 77ms/step - accuracy: 0.9874 - loss: 0.2863 - val_accuracy: 0.8896 - val_loss: 0.6100 - learning_rate: 1.0000e-04\n",
            "Epoch 18/50\n",
            "\u001b[1m396/396\u001b[0m \u001b[32m━━━━━━━━━━━━━━━━━━━━\u001b[0m\u001b[37m\u001b[0m \u001b[1m30s\u001b[0m 77ms/step - accuracy: 0.9873 - loss: 0.2792 - val_accuracy: 0.9564 - val_loss: 0.3550 - learning_rate: 1.0000e-04\n",
            "Epoch 19/50\n",
            "\u001b[1m396/396\u001b[0m \u001b[32m━━━━━━━━━━━━━━━━━━━━\u001b[0m\u001b[37m\u001b[0m \u001b[1m30s\u001b[0m 76ms/step - accuracy: 0.9909 - loss: 0.2539 - val_accuracy: 0.8918 - val_loss: 0.4988 - learning_rate: 1.0000e-04\n",
            "Epoch 20/50\n",
            "\u001b[1m396/396\u001b[0m \u001b[32m━━━━━━━━━━━━━━━━━━━━\u001b[0m\u001b[37m\u001b[0m \u001b[1m30s\u001b[0m 76ms/step - accuracy: 0.9843 - loss: 0.2695 - val_accuracy: 0.9018 - val_loss: 0.5559 - learning_rate: 1.0000e-04\n",
            "Epoch 21/50\n",
            "\u001b[1m396/396\u001b[0m \u001b[32m━━━━━━━━━━━━━━━━━━━━\u001b[0m\u001b[37m\u001b[0m \u001b[1m30s\u001b[0m 76ms/step - accuracy: 0.9918 - loss: 0.2368 - val_accuracy: 0.9336 - val_loss: 0.3767 - learning_rate: 1.0000e-04\n",
            "Epoch 22/50\n",
            "\u001b[1m396/396\u001b[0m \u001b[32m━━━━━━━━━━━━━━━━━━━━\u001b[0m\u001b[37m\u001b[0m \u001b[1m30s\u001b[0m 77ms/step - accuracy: 0.9783 - loss: 0.2974 - val_accuracy: 0.9823 - val_loss: 0.2667 - learning_rate: 5.0000e-05\n",
            "Epoch 23/50\n",
            "\u001b[1m396/396\u001b[0m \u001b[32m━━━━━━━━━━━━━━━━━━━━\u001b[0m\u001b[37m\u001b[0m \u001b[1m30s\u001b[0m 77ms/step - accuracy: 0.9860 - loss: 0.2606 - val_accuracy: 0.9760 - val_loss: 0.2775 - learning_rate: 5.0000e-05\n",
            "Epoch 24/50\n",
            "\u001b[1m396/396\u001b[0m \u001b[32m━━━━━━━━━━━━━━━━━━━━\u001b[0m\u001b[37m\u001b[0m \u001b[1m30s\u001b[0m 76ms/step - accuracy: 0.9968 - loss: 0.2170 - val_accuracy: 0.9874 - val_loss: 0.2300 - learning_rate: 5.0000e-05\n",
            "Epoch 25/50\n",
            "\u001b[1m396/396\u001b[0m \u001b[32m━━━━━━━━━━━━━━━━━━━━\u001b[0m\u001b[37m\u001b[0m \u001b[1m30s\u001b[0m 76ms/step - accuracy: 0.9913 - loss: 0.2329 - val_accuracy: 0.9930 - val_loss: 0.2098 - learning_rate: 5.0000e-05\n",
            "Epoch 26/50\n",
            "\u001b[1m396/396\u001b[0m \u001b[32m━━━━━━━━━━━━━━━━━━━━\u001b[0m\u001b[37m\u001b[0m \u001b[1m30s\u001b[0m 76ms/step - accuracy: 0.9972 - loss: 0.1980 - val_accuracy: 0.9959 - val_loss: 0.1904 - learning_rate: 5.0000e-05\n",
            "Epoch 27/50\n",
            "\u001b[1m396/396\u001b[0m \u001b[32m━━━━━━━━━━━━━━━━━━━━\u001b[0m\u001b[37m\u001b[0m \u001b[1m30s\u001b[0m 76ms/step - accuracy: 0.9978 - loss: 0.1860 - val_accuracy: 0.9727 - val_loss: 0.2663 - learning_rate: 5.0000e-05\n",
            "Epoch 28/50\n",
            "\u001b[1m396/396\u001b[0m \u001b[32m━━━━━━━━━━━━━━━━━━━━\u001b[0m\u001b[37m\u001b[0m \u001b[1m30s\u001b[0m 76ms/step - accuracy: 0.9983 - loss: 0.1724 - val_accuracy: 0.9874 - val_loss: 0.2086 - learning_rate: 5.0000e-05\n",
            "Epoch 29/50\n",
            "\u001b[1m396/396\u001b[0m \u001b[32m━━━━━━━━━━━━━━━━━━━━\u001b[0m\u001b[37m\u001b[0m \u001b[1m30s\u001b[0m 76ms/step - accuracy: 0.9978 - loss: 0.1710 - val_accuracy: 0.9882 - val_loss: 0.1892 - learning_rate: 5.0000e-05\n",
            "Epoch 30/50\n",
            "\u001b[1m396/396\u001b[0m \u001b[32m━━━━━━━━━━━━━━━━━━━━\u001b[0m\u001b[37m\u001b[0m \u001b[1m30s\u001b[0m 76ms/step - accuracy: 0.9952 - loss: 0.1719 - val_accuracy: 0.9919 - val_loss: 0.1771 - learning_rate: 5.0000e-05\n",
            "Epoch 31/50\n",
            "\u001b[1m396/396\u001b[0m \u001b[32m━━━━━━━━━━━━━━━━━━━━\u001b[0m\u001b[37m\u001b[0m \u001b[1m30s\u001b[0m 76ms/step - accuracy: 0.9976 - loss: 0.1577 - val_accuracy: 0.9594 - val_loss: 0.2859 - learning_rate: 5.0000e-05\n",
            "Epoch 32/50\n",
            "\u001b[1m396/396\u001b[0m \u001b[32m━━━━━━━━━━━━━━━━━━━━\u001b[0m\u001b[37m\u001b[0m \u001b[1m30s\u001b[0m 76ms/step - accuracy: 0.9975 - loss: 0.1501 - val_accuracy: 0.9372 - val_loss: 0.3263 - learning_rate: 5.0000e-05\n",
            "Epoch 33/50\n",
            "\u001b[1m396/396\u001b[0m \u001b[32m━━━━━━━━━━━━━━━━━━━━\u001b[0m\u001b[37m\u001b[0m \u001b[1m30s\u001b[0m 76ms/step - accuracy: 0.9925 - loss: 0.1653 - val_accuracy: 0.9269 - val_loss: 0.4401 - learning_rate: 5.0000e-05\n",
            "Epoch 34/50\n",
            "\u001b[1m396/396\u001b[0m \u001b[32m━━━━━━━━━━━━━━━━━━━━\u001b[0m\u001b[37m\u001b[0m \u001b[1m30s\u001b[0m 76ms/step - accuracy: 0.9987 - loss: 0.1458 - val_accuracy: 0.9945 - val_loss: 0.1542 - learning_rate: 2.5000e-05\n",
            "Epoch 35/50\n",
            "\u001b[1m396/396\u001b[0m \u001b[32m━━━━━━━━━━━━━━━━━━━━\u001b[0m\u001b[37m\u001b[0m \u001b[1m30s\u001b[0m 76ms/step - accuracy: 0.9989 - loss: 0.1363 - val_accuracy: 0.9823 - val_loss: 0.2030 - learning_rate: 2.5000e-05\n",
            "Epoch 36/50\n",
            "\u001b[1m396/396\u001b[0m \u001b[32m━━━━━━━━━━━━━━━━━━━━\u001b[0m\u001b[37m\u001b[0m \u001b[1m30s\u001b[0m 76ms/step - accuracy: 0.9876 - loss: 0.1755 - val_accuracy: 0.9930 - val_loss: 0.1505 - learning_rate: 2.5000e-05\n",
            "Epoch 37/50\n",
            "\u001b[1m396/396\u001b[0m \u001b[32m━━━━━━━━━━━━━━━━━━━━\u001b[0m\u001b[37m\u001b[0m \u001b[1m30s\u001b[0m 76ms/step - accuracy: 0.9985 - loss: 0.1336 - val_accuracy: 0.9934 - val_loss: 0.1466 - learning_rate: 2.5000e-05\n",
            "Epoch 38/50\n",
            "\u001b[1m396/396\u001b[0m \u001b[32m━━━━━━━━━━━━━━━━━━━━\u001b[0m\u001b[37m\u001b[0m \u001b[1m30s\u001b[0m 76ms/step - accuracy: 0.9998 - loss: 0.1260 - val_accuracy: 0.9959 - val_loss: 0.1311 - learning_rate: 2.5000e-05\n",
            "Epoch 39/50\n",
            "\u001b[1m396/396\u001b[0m \u001b[32m━━━━━━━━━━━━━━━━━━━━\u001b[0m\u001b[37m\u001b[0m \u001b[1m30s\u001b[0m 76ms/step - accuracy: 0.9994 - loss: 0.1217 - val_accuracy: 0.9945 - val_loss: 0.1356 - learning_rate: 2.5000e-05\n",
            "Epoch 40/50\n",
            "\u001b[1m396/396\u001b[0m \u001b[32m━━━━━━━━━━━━━━━━━━━━\u001b[0m\u001b[37m\u001b[0m \u001b[1m30s\u001b[0m 76ms/step - accuracy: 0.9999 - loss: 0.1165 - val_accuracy: 0.9952 - val_loss: 0.1328 - learning_rate: 2.5000e-05\n",
            "Epoch 41/50\n",
            "\u001b[1m396/396\u001b[0m \u001b[32m━━━━━━━━━━━━━━━━━━━━\u001b[0m\u001b[37m\u001b[0m \u001b[1m30s\u001b[0m 76ms/step - accuracy: 1.0000 - loss: 0.1117 - val_accuracy: 0.9797 - val_loss: 0.1845 - learning_rate: 2.5000e-05\n",
            "Epoch 42/50\n",
            "\u001b[1m396/396\u001b[0m \u001b[32m━━━━━━━━━━━━━━━━━━━━\u001b[0m\u001b[37m\u001b[0m \u001b[1m30s\u001b[0m 76ms/step - accuracy: 0.9999 - loss: 0.1085 - val_accuracy: 0.9959 - val_loss: 0.1200 - learning_rate: 1.2500e-05\n",
            "Epoch 43/50\n",
            "\u001b[1m396/396\u001b[0m \u001b[32m━━━━━━━━━━━━━━━━━━━━\u001b[0m\u001b[37m\u001b[0m \u001b[1m30s\u001b[0m 76ms/step - accuracy: 0.9994 - loss: 0.1073 - val_accuracy: 0.9941 - val_loss: 0.1247 - learning_rate: 1.2500e-05\n",
            "Epoch 44/50\n",
            "\u001b[1m396/396\u001b[0m \u001b[32m━━━━━━━━━━━━━━━━━━━━\u001b[0m\u001b[37m\u001b[0m \u001b[1m30s\u001b[0m 76ms/step - accuracy: 0.9999 - loss: 0.1033 - val_accuracy: 0.9956 - val_loss: 0.1154 - learning_rate: 1.2500e-05\n",
            "Epoch 45/50\n",
            "\u001b[1m396/396\u001b[0m \u001b[32m━━━━━━━━━━━━━━━━━━━━\u001b[0m\u001b[37m\u001b[0m \u001b[1m30s\u001b[0m 76ms/step - accuracy: 0.9993 - loss: 0.1036 - val_accuracy: 0.9970 - val_loss: 0.1101 - learning_rate: 1.2500e-05\n",
            "Epoch 46/50\n",
            "\u001b[1m396/396\u001b[0m \u001b[32m━━━━━━━━━━━━━━━━━━━━\u001b[0m\u001b[37m\u001b[0m \u001b[1m30s\u001b[0m 76ms/step - accuracy: 0.9999 - loss: 0.1000 - val_accuracy: 0.9963 - val_loss: 0.1119 - learning_rate: 1.2500e-05\n",
            "Epoch 47/50\n",
            "\u001b[1m396/396\u001b[0m \u001b[32m━━━━━━━━━━━━━━━━━━━━\u001b[0m\u001b[37m\u001b[0m \u001b[1m30s\u001b[0m 76ms/step - accuracy: 1.0000 - loss: 0.0964 - val_accuracy: 0.9963 - val_loss: 0.1071 - learning_rate: 1.2500e-05\n",
            "Epoch 48/50\n",
            "\u001b[1m396/396\u001b[0m \u001b[32m━━━━━━━━━━━━━━━━━━━━\u001b[0m\u001b[37m\u001b[0m \u001b[1m30s\u001b[0m 76ms/step - accuracy: 0.9994 - loss: 0.0961 - val_accuracy: 0.9867 - val_loss: 0.1523 - learning_rate: 1.2500e-05\n",
            "Epoch 49/50\n",
            "\u001b[1m396/396\u001b[0m \u001b[32m━━━━━━━━━━━━━━━━━━━━\u001b[0m\u001b[37m\u001b[0m \u001b[1m30s\u001b[0m 76ms/step - accuracy: 0.9993 - loss: 0.0956 - val_accuracy: 0.9900 - val_loss: 0.1292 - learning_rate: 1.2500e-05\n",
            "Epoch 50/50\n",
            "\u001b[1m396/396\u001b[0m \u001b[32m━━━━━━━━━━━━━━━━━━━━\u001b[0m\u001b[37m\u001b[0m \u001b[1m30s\u001b[0m 76ms/step - accuracy: 0.9995 - loss: 0.0930 - val_accuracy: 0.9945 - val_loss: 0.1144 - learning_rate: 1.2500e-05\n",
            "\u001b[1m85/85\u001b[0m \u001b[32m━━━━━━━━━━━━━━━━━━━━\u001b[0m\u001b[37m\u001b[0m \u001b[1m1s\u001b[0m 16ms/step - accuracy: 0.9942 - loss: 0.1155\n",
            "Test Loss: 0.1161\n",
            "Test Accuracy: 0.9945\n"
          ]
        }
      ]
    },
    {
      "cell_type": "code",
      "source": [
        "import matplotlib.pyplot as plt\n",
        "\n",
        "plt.figure(figsize=(12, 5))\n",
        "plt.subplot(1, 2, 1)\n",
        "plt.plot(history.history['accuracy'], label='Train Accuracy')\n",
        "plt.plot(history.history['val_accuracy'], label='Validation Accuracy')\n",
        "plt.title('Model Accuracy')\n",
        "plt.xlabel('Epochs')\n",
        "plt.ylabel('Accuracy')\n",
        "plt.legend()\n",
        "\n",
        "plt.subplot(1, 2, 2)\n",
        "plt.plot(history.history['loss'], label='Train Loss')\n",
        "plt.plot(history.history['val_loss'], label='Validation Loss')\n",
        "plt.title('Model Loss')\n",
        "plt.xlabel('Epochs')\n",
        "plt.ylabel('Loss')\n",
        "plt.legend()\n",
        "\n",
        "plt.tight_layout()\n",
        "plt.show()"
      ],
      "metadata": {
        "id": "Pq0OXIEDd4kp",
        "colab": {
          "base_uri": "https://localhost:8080/",
          "height": 507
        },
        "outputId": "d217cc71-3449-4a36-e963-69c6a79777e3"
      },
      "execution_count": 13,
      "outputs": [
        {
          "output_type": "display_data",
          "data": {
            "text/plain": [
              "<Figure size 1200x500 with 2 Axes>"
            ],
            "image/png": "[encoded data removed]"
          },
          "metadata": {}
        }
      ]
    },
    {
      "cell_type": "code",
      "source": [
        "from sklearn.metrics import confusion_matrix, classification_report\n",
        "import seaborn as sns\n",
        "import matplotlib.pyplot as plt\n",
        "\n",
        "# No need to one-hot encode since you're using sparse_categorical_crossentropy\n",
        "test_loss, test_accuracy = model.evaluate(X_test, y_test, verbose=2)\n",
        "\n",
        "print(f\"Test Loss: {test_loss:.4f}\")\n",
        "print(f\"Test Accuracy: {test_accuracy:.4f}\")\n",
        "print(f\"Final Accuracy of the model: {test_accuracy * 100:.2f}%\")\n",
        "\n",
        "predictions = model.predict(X_test, verbose=2)\n",
        "predicted_classes = predictions.argmax(axis=1)\n",
        "\n",
        "# Comparing predictions with true labels\n",
        "true_classes = y_test\n",
        "print(\"Sample Predictions:\")\n",
        "print(f\"True Labels: {true_classes[:10]}\")\n",
        "print(f\"Predicted Labels: {predicted_classes[:10]}\")\n",
        "\n",
        "# Confusion Matrix\n",
        "cm = confusion_matrix(true_classes, predicted_classes)\n",
        "plt.figure(figsize=(8, 6))\n",
        "sns.heatmap(cm, annot=True, fmt=\"d\", cmap=\"Blues\")\n",
        "plt.title(\"Confusion Matrix\")\n",
        "plt.xlabel(\"Predicted\")\n",
        "plt.ylabel(\"True\")\n",
        "plt.show()\n"
      ],
      "metadata": {
        "id": "owDdK-tjVCje",
        "colab": {
          "base_uri": "https://localhost:8080/",
          "height": 703
        },
        "outputId": "38def977-5ef6-42fa-e730-a103389665eb"
      },
      "execution_count": 14,
      "outputs": [
        {
          "output_type": "stream",
          "name": "stdout",
          "text": [
            "85/85 - 1s - 16ms/step - accuracy: 0.9952 - loss: 0.1124\n",
            "Test Loss: 0.1124\n",
            "Test Accuracy: 0.9952\n",
            "Final Accuracy of the model: 99.52%\n",
            "85/85 - 1s - 15ms/step\n",
            "Sample Predictions:\n",
            "True Labels: [1 5 4 6 3 3 1 3 6 5]\n",
            "Predicted Labels: [1 5 4 6 3 3 1 3 6 5]\n"
          ]
        },
        {
          "output_type": "display_data",
          "data": {
            "text/plain": [
              "<Figure size 800x600 with 2 Axes>"
            ],
            "image/png": "[encoded data removed]"
          },
          "metadata": {}
        }
      ]
    },
    {
      "cell_type": "code",
      "source": [
        "# Saving the model in H5 format\n",
        "model.save('/content/drive/MyDrive/Audio_Forensics_Models/test3.h5')\n",
        "print(\"Model saved\")"
      ],
      "metadata": {
        "colab": {
          "base_uri": "https://localhost:8080/"
        },
        "id": "aG4cBd-BwhOr",
        "outputId": "f97b2cd7-4349-4f54-a8a5-b38d8bc895d4"
      },
      "execution_count": 15,
      "outputs": [
        {
          "output_type": "stream",
          "name": "stderr",
          "text": [
            "WARNING:absl:You are saving your model as an HDF5 file via `model.save()` or `keras.saving.save_model(model)`. This file format is considered legacy. We recommend using instead the native Keras format, e.g. `model.save('my_model.keras')` or `keras.saving.save_model(model, 'my_model.keras')`. \n"
          ]
        },
        {
          "output_type": "stream",
          "name": "stdout",
          "text": [
            "Model saved\n"
          ]
        }
      ]
    },
    {
      "cell_type": "code",
      "source": [
        "import os\n",
        "import numpy as np\n",
        "import librosa\n",
        "from tensorflow.keras.models import load_model\n",
        "from sklearn.preprocessing import MinMaxScaler\n",
        "\n",
        "# Class names: 'Bonafide' is class 0, and the spoof classes are A01 to A06\n",
        "class_names = ['Bonafide', 'A01', 'A02', 'A03', 'A04', 'A05', 'A06']\n",
        "\n",
        "model_path = '/content/drive/MyDrive/Audio_Forensics_Models/test2.h5'\n",
        "model = tf.keras.models.load_model(model_path)\n",
        "\n",
        "# Preprocess the audio file (convert to Mel spectrogram and normalize)\n",
        "def preprocess_audio(file_path, sr=11000, n_mels=256, max_time_frames=256):\n",
        "    mel_spectrogram = audio_to_mel_spectrogram(file_path, sr, n_mels, max_time_frames)\n",
        "\n",
        "    if mel_spectrogram is not None:\n",
        "        # Normalize the spectrogram\n",
        "        scaler = MinMaxScaler()\n",
        "        mel_spectrogram_normalized = scaler.fit_transform(mel_spectrogram)\n",
        "\n",
        "        # Reshape for CNN input (Add the channel dimension)\n",
        "        mel_spectrogram_normalized = mel_spectrogram_normalized[..., np.newaxis]  # Channel = 1\n",
        "\n",
        "        return mel_spectrogram_normalized\n",
        "    else:\n",
        "        return None\n",
        "\n",
        "# Function to predict the class of an audio file\n",
        "def predict_audio_class(file_path):\n",
        "    # Preprocess the audio file\n",
        "    mel_spectrogram = preprocess_audio(file_path)\n",
        "\n",
        "    if mel_spectrogram is not None:\n",
        "        # Make prediction using the loaded model\n",
        "        mel_spectrogram = np.expand_dims(mel_spectrogram, axis=0)  # Add batch dimension\n",
        "        prediction = model.predict(mel_spectrogram)\n",
        "\n",
        "        # Get the predicted class index\n",
        "        predicted_class_idx = np.argmax(prediction, axis=1)[0]\n",
        "\n",
        "        # Get the class name based on the predicted index\n",
        "        predicted_class = class_names[predicted_class_idx]\n",
        "\n",
        "        print(f\"Predicted class: {predicted_class}\")\n",
        "        return predicted_class\n",
        "    else:\n",
        "        print(\"Error processing audio file.\")\n",
        "        return None\n",
        "\n",
        "\n",
        "# Example usage: Predict the class of a new audio file\n",
        "file_path = '/content/drive/MyDrive/LA_Dataset_Final/Bonafide/LA_T_1607779.flac'  # Replace with the path to the audio file you want to predict\n",
        "predicted_class = predict_audio_class(file_path)\n"
      ],
      "metadata": {
        "id": "q9uAxMMKs797"
      },
      "execution_count": 11,
      "outputs": []
    },
    {
      "cell_type": "code",
      "source": [
        "import os\n",
        "import numpy as np\n",
        "import librosa\n",
        "import tensorflow as tf\n",
        "from tensorflow.keras.models import load_model\n",
        "from sklearn.preprocessing import MinMaxScaler\n",
        "from google.colab import files  # For file upload in Google Colab\n",
        "\n",
        "# Class names: 'Bonafide' is class 0, and the spoof classes are A01 to A06\n",
        "class_names = ['Bonafide', 'A01', 'A02', 'A03', 'A04', 'A05', 'A06']\n",
        "\n",
        "# Load the model\n",
        "model_path = '/content/drive/MyDrive/Audio_Forensics_Models/test3.h5'\n",
        "model = tf.keras.models.load_model(model_path)\n",
        "\n",
        "# Preprocess the audio file (convert to Mel spectrogram and normalize)\n",
        "def preprocess_audio(file_path, sr=11000, n_mels=256, max_time_frames=256):\n",
        "    mel_spectrogram = audio_to_mel_spectrogram(file_path, sr, n_mels, max_time_frames)\n",
        "\n",
        "    if mel_spectrogram is not None:\n",
        "        # Normalize the spectrogram\n",
        "        scaler = MinMaxScaler()\n",
        "        mel_spectrogram_normalized = scaler.fit_transform(mel_spectrogram)\n",
        "\n",
        "        # Reshape for CNN input (Add the channel dimension)\n",
        "        mel_spectrogram_normalized = mel_spectrogram_normalized[..., np.newaxis]  # Channel = 1\n",
        "\n",
        "        return mel_spectrogram_normalized\n",
        "    else:\n",
        "        return None\n",
        "\n",
        "# Function to predict the class of an audio file\n",
        "def predict_audio_class(file_path):\n",
        "    # Preprocess the audio file\n",
        "    mel_spectrogram = preprocess_audio(file_path)\n",
        "\n",
        "    if mel_spectrogram is not None:\n",
        "        # Make prediction using the loaded model\n",
        "        mel_spectrogram = np.expand_dims(mel_spectrogram, axis=0)  # Add batch dimension\n",
        "        prediction = model.predict(mel_spectrogram)\n",
        "\n",
        "        # Get the predicted class index\n",
        "        predicted_class_idx = np.argmax(prediction, axis=1)[0]\n",
        "\n",
        "        # Get the class name based on the predicted index\n",
        "        predicted_class = class_names[predicted_class_idx]\n",
        "\n",
        "        print(f\"Predicted class: {predicted_class}\")\n",
        "        return predicted_class\n",
        "    else:\n",
        "        print(\"Error processing audio file.\")\n",
        "        return None\n",
        "\n",
        "# Upload file from the local system\n",
        "def upload_audio_file():\n",
        "    uploaded = files.upload()  # File upload widget\n",
        "    if uploaded:\n",
        "        # Get the uploaded file path\n",
        "        file_name = next(iter(uploaded))\n",
        "        print(f\"Uploaded file: {file_name}\")\n",
        "        return file_name\n",
        "    else:\n",
        "        print(\"No file uploaded.\")\n",
        "        return None\n",
        "\n",
        "# Example usage: Upload the file and predict its class\n",
        "uploaded_file_path = upload_audio_file()  # Upload an audio file from your local computer\n",
        "\n",
        "if uploaded_file_path:\n",
        "    predicted_class = predict_audio_class(uploaded_file_path)\n"
      ],
      "metadata": {
        "id": "h90ElDva4WS9",
        "colab": {
          "base_uri": "https://localhost:8080/",
          "height": 142
        },
        "outputId": "2fbda3c9-ebef-4706-835e-246fbd3f2d85"
      },
      "execution_count": 19,
      "outputs": [
        {
          "output_type": "stream",
          "name": "stderr",
          "text": [
            "WARNING:absl:Compiled the loaded model, but the compiled metrics have yet to be built. `model.compile_metrics` will be empty until you train or evaluate the model.\n"
          ]
        },
        {
          "output_type": "display_data",
          "data": {
            "text/plain": [
              "<IPython.core.display.HTML object>"
            ],
            "text/html": [
              "\n",
              "     <input type=\"file\" id=\"files-f37e9a77-0d9b-417c-9b36-15e47be1fed7\" name=\"files[]\" multiple disabled\n",
              "        style=\"border:none\" />\n",
              "     <output id=\"result-f37e9a77-0d9b-417c-9b36-15e47be1fed7\">\n",
              "      Upload widget is only available when the cell has been executed in the\n",
              "      current browser session. Please rerun this cell to enable.\n",
              "      </output>\n",
              "      <script>// Copyright 2017 Google LLC\n",
              "//\n",
              "// Licensed under the Apache License, Version 2.0 (the \"License\");\n",
              "// you may not use this file except in compliance with the License.\n",
              "// You may obtain a copy of the License at\n",
              "//\n",
              "//      http://www.apache.org/licenses/LICENSE-2.0\n",
              "//\n",
              "// Unless required by applicable law or agreed to in writing, software\n",
              "// distributed under the License is distributed on an \"AS IS\" BASIS,\n",
              "// WITHOUT WARRANTIES OR CONDITIONS OF ANY KIND, either express or implied.\n",
              "// See the License for the specific language governing permissions and\n",
              "// limitations under the License.\n",
              "\n",
              "/**\n",
              " * @fileoverview Helpers for google.colab Python module.\n",
              " */\n",
              "(function(scope) {\n",
              "function span(text, styleAttributes = {}) {\n",
              "  const element = document.createElement('span');\n",
              "  element.textContent = text;\n",
              "  for (const key of Object.keys(styleAttributes)) {\n",
              "    element.style[key] = styleAttributes[key];\n",
              "  }\n",
              "  return element;\n",
              "}\n",
              "\n",
              "// Max number of bytes which will be uploaded at a time.\n",
              "const MAX_PAYLOAD_SIZE = 100 * 1024;\n",
              "\n",
              "function _uploadFiles(inputId, outputId) {\n",
              "  const steps = uploadFilesStep(inputId, outputId);\n",
              "  const outputElement = document.getElementById(outputId);\n",
              "  // Cache steps on the outputElement to make it available for the next call\n",
              "  // to uploadFilesContinue from Python.\n",
              "  outputElement.steps = steps;\n",
              "\n",
              "  return _uploadFilesContinue(outputId);\n",
              "}\n",
              "\n",
              "// This is roughly an async generator (not supported in the browser yet),\n",
              "// where there are multiple asynchronous steps and the Python side is going\n",
              "// to poll for completion of each step.\n",
              "// This uses a Promise to block the python side on completion of each step,\n",
              "// then passes the result of the previous step as the input to the next step.\n",
              "function _uploadFilesContinue(outputId) {\n",
              "  const outputElement = document.getElementById(outputId);\n",
              "  const steps = outputElement.steps;\n",
              "\n",
              "  const next = steps.next(outputElement.lastPromiseValue);\n",
              "  return Promise.resolve(next.value.promise).then((value) => {\n",
              "    // Cache the last promise value to make it available to the next\n",
              "    // step of the generator.\n",
              "    outputElement.lastPromiseValue = value;\n",
              "    return next.value.response;\n",
              "  });\n",
              "}\n",
              "\n",
              "/**\n",
              " * Generator function which is called between each async step of the upload\n",
              " * process.\n",
              " * @param {string} inputId Element ID of the input file picker element.\n",
              " * @param {string} outputId Element ID of the output display.\n",
              " * @return {!Iterable<!Object>} Iterable of next steps.\n",
              " */\n",
              "function* uploadFilesStep(inputId, outputId) {\n",
              "  const inputElement = document.getElementById(inputId);\n",
              "  inputElement.disabled = false;\n",
              "\n",
              "  const outputElement = document.getElementById(outputId);\n",
              "  outputElement.innerHTML = '';\n",
              "\n",
              "  const pickedPromise = new Promise((resolve) => {\n",
              "    inputElement.addEventListener('change', (e) => {\n",
              "      resolve(e.target.files);\n",
              "    });\n",
              "  });\n",
              "\n",
              "  const cancel = document.createElement('button');\n",
              "  inputElement.parentElement.appendChild(cancel);\n",
              "  cancel.textContent = 'Cancel upload';\n",
              "  const cancelPromise = new Promise((resolve) => {\n",
              "    cancel.onclick = () => {\n",
              "      resolve(null);\n",
              "    };\n",
              "  });\n",
              "\n",
              "  // Wait for the user to pick the files.\n",
              "  const files = yield {\n",
              "    promise: Promise.race([pickedPromise, cancelPromise]),\n",
              "    response: {\n",
              "      action: 'starting',\n",
              "    }\n",
              "  };\n",
              "\n",
              "  cancel.remove();\n",
              "\n",
              "  // Disable the input element since further picks are not allowed.\n",
              "  inputElement.disabled = true;\n",
              "\n",
              "  if (!files) {\n",
              "    return {\n",
              "      response: {\n",
              "        action: 'complete',\n",
              "      }\n",
              "    };\n",
              "  }\n",
              "\n",
              "  for (const file of files) {\n",
              "    const li = document.createElement('li');\n",
              "    li.append(span(file.name, {fontWeight: 'bold'}));\n",
              "    li.append(span(\n",
              "        `(${file.type || 'n/a'}) - ${file.size} bytes, ` +\n",
              "        `last modified: ${\n",
              "            file.lastModifiedDate ? file.lastModifiedDate.toLocaleDateString() :\n",
              "                                    'n/a'} - `));\n",
              "    const percent = span('0% done');\n",
              "    li.appendChild(percent);\n",
              "\n",
              "    outputElement.appendChild(li);\n",
              "\n",
              "    const fileDataPromise = new Promise((resolve) => {\n",
              "      const reader = new FileReader();\n",
              "      reader.onload = (e) => {\n",
              "        resolve(e.target.result);\n",
              "      };\n",
              "      reader.readAsArrayBuffer(file);\n",
              "    });\n",
              "    // Wait for the data to be ready.\n",
              "    let fileData = yield {\n",
              "      promise: fileDataPromise,\n",
              "      response: {\n",
              "        action: 'continue',\n",
              "      }\n",
              "    };\n",
              "\n",
              "    // Use a chunked sending to avoid message size limits. See b/62115660.\n",
              "    let position = 0;\n",
              "    do {\n",
              "      const length = Math.min(fileData.byteLength - position, MAX_PAYLOAD_SIZE);\n",
              "      const chunk = new Uint8Array(fileData, position, length);\n",
              "      position += length;\n",
              "\n",
              "      const base64 = btoa(String.fromCharCode.apply(null, chunk));\n",
              "      yield {\n",
              "        response: {\n",
              "          action: 'append',\n",
              "          file: file.name,\n",
              "          data: base64,\n",
              "        },\n",
              "      };\n",
              "\n",
              "      let percentDone = fileData.byteLength === 0 ?\n",
              "          100 :\n",
              "          Math.round((position / fileData.byteLength) * 100);\n",
              "      percent.textContent = `${percentDone}% done`;\n",
              "\n",
              "    } while (position < fileData.byteLength);\n",
              "  }\n",
              "\n",
              "  // All done.\n",
              "  yield {\n",
              "    response: {\n",
              "      action: 'complete',\n",
              "    }\n",
              "  };\n",
              "}\n",
              "\n",
              "scope.google = scope.google || {};\n",
              "scope.google.colab = scope.google.colab || {};\n",
              "scope.google.colab._files = {\n",
              "  _uploadFiles,\n",
              "  _uploadFilesContinue,\n",
              "};\n",
              "})(self);\n",
              "</script> "
            ]
          },
          "metadata": {}
        },
        {
          "output_type": "stream",
          "name": "stdout",
          "text": [
            "Saving sample-0.mp3 to sample-0 (1).mp3\n",
            "Uploaded file: sample-0 (1).mp3\n",
            "\u001b[1m1/1\u001b[0m \u001b[32m━━━━━━━━━━━━━━━━━━━━\u001b[0m\u001b[37m\u001b[0m \u001b[1m1s\u001b[0m 525ms/step\n",
            "Predicted class: A04\n"
          ]
        }
      ]
    },
    {
      "cell_type": "markdown",
      "source": [
        "**Testing on a different dataset**"
      ],
      "metadata": {
        "id": "DIIeRSGdi8GE"
      }
    },
    {
      "cell_type": "code",
      "source": [
        "import os\n",
        "import numpy as np\n",
        "import librosa\n",
        "from tensorflow.keras.models import load_model\n",
        "from sklearn.preprocessing import MinMaxScaler\n",
        "from tqdm import tqdm\n",
        "import matplotlib.pyplot as plt\n",
        "\n",
        "# Load the saved model\n",
        "model_path = '/content/drive/MyDrive/Audio_Forensics_Models/test3.h5'\n",
        "model = load_model(model_path)\n",
        "\n",
        "# Preprocess the audio (same function you used before)\n",
        "def audio_to_mel_spectrogram(file_path, sr=11000, n_mels=256, max_time_frames=256):\n",
        "    try:\n",
        "        y, original_sr = librosa.load(file_path, sr=sr)  # Load audio with target sampling rate\n",
        "        mel_spectrogram = librosa.feature.melspectrogram(y=y, sr=sr, n_mels=n_mels)  # Compute Mel spectrogram\n",
        "        mel_spectrogram = librosa.power_to_db(mel_spectrogram, ref=np.max)  # Convert to dB scale\n",
        "\n",
        "        # Truncate or pad to max_time_frames\n",
        "        if mel_spectrogram.shape[1] > max_time_frames:\n",
        "            mel_spectrogram = mel_spectrogram[:, :max_time_frames]\n",
        "        else:\n",
        "            pad_width = max_time_frames - mel_spectrogram.shape[1]\n",
        "            mel_spectrogram = np.pad(mel_spectrogram, ((0, 0), (0, pad_width)), mode='constant')\n",
        "\n",
        "        return mel_spectrogram\n",
        "    except Exception as e:\n",
        "        print(f\"Error processing file {file_path}: {e}\")\n",
        "        return None\n",
        "\n",
        "# Load the data (real and fake folders)\n",
        "def load_data_from_folders(folders, labels, sr=11000, n_mels=256, max_time_frames=256):\n",
        "    X, y = [], []\n",
        "    for folder, label in zip(folders, labels):\n",
        "        print(f\"Processing {folder}...\")\n",
        "        files = os.listdir(folder)\n",
        "\n",
        "        for file in tqdm(files):\n",
        "            file_path = os.path.join(folder, file)\n",
        "            mel_spectrogram = audio_to_mel_spectrogram(file_path, sr, n_mels, max_time_frames)\n",
        "            if mel_spectrogram is not None:\n",
        "                X.append(mel_spectrogram)\n",
        "                y.append(label)\n",
        "    return np.array(X), np.array(y)\n",
        "\n",
        "# Define dataset paths (real and fake)\n",
        "real_folder = '/content/drive/MyDrive/asvpoof_data/real'\n",
        "fake_folder = '/content/drive/MyDrive/asvpoof_data/fake'\n",
        "\n",
        "folders = [real_folder, fake_folder]\n",
        "labels = [0, 1]  # 0 = real, 1 = fake\n",
        "\n",
        "# Load the data\n",
        "X, y = load_data_from_folders(folders, labels)\n",
        "\n",
        "# Preprocess the data (normalize)\n",
        "scaler = MinMaxScaler()\n",
        "X_normalized = np.array([scaler.fit_transform(sample) for sample in X])  # Normalize each sample\n",
        "\n",
        "# Reshape data for the model (add channel dimension)\n",
        "X_normalized = X_normalized[..., np.newaxis]\n",
        "\n",
        "# Make predictions on the new dataset\n",
        "predictions = model.predict(X_normalized)\n",
        "\n",
        "# Convert predictions to real/fake labels\n",
        "predicted_labels = []\n",
        "for prediction in predictions:\n",
        "    predicted_class = np.argmax(prediction)  # Get predicted class\n",
        "    # Map the model's 7 class prediction to 2 classes\n",
        "    if predicted_class == 0:  # class 0 is \"real\"\n",
        "        predicted_labels.append('real')\n",
        "    else:  # classes 1-6 are \"fake\"\n",
        "        predicted_labels.append('fake')\n",
        "\n",
        "# Create the correct labels for comparison\n",
        "true_labels = ['real'] * len(os.listdir(real_folder)) + ['fake'] * len(os.listdir(fake_folder))\n",
        "\n",
        "# Evaluate the model's performance by comparing predicted labels with true labels\n",
        "correct_predictions = np.sum(np.array(predicted_labels) == np.array(true_labels))  # Calculate correct predictions\n",
        "accuracy = correct_predictions / len(predicted_labels)\n",
        "\n",
        "print(f\"Accuracy on new dataset: {accuracy * 100:.2f}%\")\n",
        "\n",
        "\n",
        "# Optionally, display a confusion matrix or other evaluation metrics\n",
        "from sklearn.metrics import confusion_matrix\n",
        "import seaborn as sns\n",
        "\n",
        "cm = confusion_matrix(y, [0 if label == 'real' else 1 for label in predicted_labels])\n",
        "\n",
        "# Plot confusion matrix\n",
        "plt.figure(figsize=(6, 5))\n",
        "sns.heatmap(cm, annot=True, fmt=\"d\", cmap=\"Blues\", xticklabels=['Real', 'Fake'], yticklabels=['Real', 'Fake'])\n",
        "plt.xlabel('Predicted')\n",
        "plt.ylabel('True')\n",
        "plt.title('Confusion Matrix')\n",
        "plt.show()\n"
      ],
      "metadata": {
        "colab": {
          "base_uri": "https://localhost:8080/",
          "height": 608
        },
        "id": "Hz_XOr8WhLaa",
        "outputId": "c78f5c6f-984c-473f-a597-2333a14f4af0"
      },
      "execution_count": 23,
      "outputs": [
        {
          "output_type": "stream",
          "name": "stderr",
          "text": [
            "WARNING:absl:Compiled the loaded model, but the compiled metrics have yet to be built. `model.compile_metrics` will be empty until you train or evaluate the model.\n"
          ]
        },
        {
          "output_type": "stream",
          "name": "stdout",
          "text": [
            "Processing /content/drive/MyDrive/asvpoof_data/real...\n"
          ]
        },
        {
          "output_type": "stream",
          "name": "stderr",
          "text": [
            "100%|██████████| 1507/1507 [00:25<00:00, 58.93it/s]\n"
          ]
        },
        {
          "output_type": "stream",
          "name": "stdout",
          "text": [
            "Processing /content/drive/MyDrive/asvpoof_data/fake...\n"
          ]
        },
        {
          "output_type": "stream",
          "name": "stderr",
          "text": [
            "100%|██████████| 1507/1507 [00:34<00:00, 43.61it/s]\n"
          ]
        },
        {
          "output_type": "stream",
          "name": "stdout",
          "text": [
            "\u001b[1m95/95\u001b[0m \u001b[32m━━━━━━━━━━━━━━━━━━━━\u001b[0m\u001b[37m\u001b[0m \u001b[1m2s\u001b[0m 20ms/step\n",
            "Accuracy on new dataset: 43.70%\n"
          ]
        },
        {
          "output_type": "display_data",
          "data": {
            "text/plain": [
              "<Figure size 600x500 with 2 Axes>"
            ],
            "image/png": "[encoded data removed]"
          },
          "metadata": {}
        }
      ]
    }
  ]
}